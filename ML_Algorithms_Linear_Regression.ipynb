{
  "nbformat": 4,
  "nbformat_minor": 0,
  "metadata": {
    "colab": {
      "provenance": []
    },
    "kernelspec": {
      "name": "python3",
      "display_name": "Python 3"
    },
    "language_info": {
      "name": "python"
    }
  },
  "cells": [
    {
      "cell_type": "markdown",
      "metadata": {
        "id": "vL6tgLcFjC8K"
      },
      "source": [
        "Linear Regression Implementation:"
      ]
    },
    {
      "cell_type": "code",
      "metadata": {
        "id": "7yvrTZ7SLUMO"
      },
      "source": [
        "import numpy as np\n",
        "\n",
        "class LinearRegression:\n",
        "\n",
        "    def __init__(self, learning_rate=0.01, n_iters=1000):\n",
        "        self.lr = learning_rate\n",
        "        self.n_iters = n_iters\n",
        "        self.weights = None\n",
        "        self.bias = None\n",
        "\n",
        "    def fit(self, X, y):\n",
        "        n_samples, n_features = X.shape\n",
        "\n",
        "        # init parameters\n",
        "        self.weights = np.zeros(n_features)\n",
        "        self.bias = 0\n",
        "\n",
        "        # gradient descent\n",
        "        for _ in range(self.n_iters):\n",
        "            y_predicted = np.dot(X, self.weights) + self.bias\n",
        "            # compute gradients\n",
        "            dw = (1 / n_samples) * np.dot(X.T, (y_predicted - y))\n",
        "            db = (1 / n_samples) * np.sum(y_predicted - y)\n",
        "\n",
        "            # update parameters\n",
        "            self.weights -= self.lr * dw\n",
        "            self.bias -= self.lr * db\n",
        "\n",
        "\n",
        "    def predict(self, X):\n",
        "        y_approximated = np.dot(X, self.weights) + self.bias\n",
        "        return y_approximated"
      ],
      "execution_count": null,
      "outputs": []
    },
    {
      "cell_type": "markdown",
      "metadata": {
        "id": "mk6mGrDljKIM"
      },
      "source": [
        "Testing the Algorithm:"
      ]
    },
    {
      "cell_type": "code",
      "metadata": {
        "id": "vZDZWkv_jN7m"
      },
      "source": [
        "from sklearn.datasets import load_breast_cancer\n",
        "from sklearn.model_selection import train_test_split\n",
        "from sklearn import datasets\n",
        "import matplotlib.pyplot as plt\n",
        "\n",
        "X, y = datasets.make_regression(n_samples=100, n_features=1, noise=20, random_state=4)\n",
        "\n",
        "X_train, X_test, y_train, y_test = train_test_split(X, y, test_size=0.2, random_state=40)\n",
        "\n",
        "model = LinearRegression(learning_rate=0.01, n_iters=1000)\n",
        "model.fit(X_train, y_train)\n",
        "preds = model.predict(X_test)"
      ],
      "execution_count": null,
      "outputs": []
    },
    {
      "cell_type": "markdown",
      "metadata": {
        "id": "-FfPYMLSjYN1"
      },
      "source": [
        "Model evaluation:"
      ]
    },
    {
      "cell_type": "code",
      "metadata": {
        "colab": {
          "base_uri": "https://localhost:8080/",
          "height": 391
        },
        "id": "rcCb9S5Bja5-",
        "outputId": "ae13af97-4d51-4aeb-8d59-4baafd26a3b9"
      },
      "source": [
        "def mean_squared_error(y_true, y_pred):\n",
        "    return np.mean((y_true - y_pred)**2)\n",
        "\n",
        "mse = mean_squared_error(y_test, preds)\n",
        "print(\"MSE:\", mse)\n",
        "\n",
        "y_pred_line = model.predict(X)\n",
        "cmap = plt.get_cmap('viridis')\n",
        "fig = plt.figure(figsize=(8,6))\n",
        "m1 = plt.scatter(X_train, y_train, color=cmap(0.9), s=10)\n",
        "m2 = plt.scatter(X_test, y_test, color=cmap(0.5), s=10)\n",
        "plt.plot(X, y_pred_line, color='black', linewidth=2, label=\"Prediction\")\n",
        "plt.show()"
      ],
      "execution_count": null,
      "outputs": [
        {
          "output_type": "stream",
          "text": [
            "MSE: 251.678440831798\n"
          ],
          "name": "stdout"
        },
        {
          "output_type": "display_data",
          "data": {
            "image/png": "[encoded data removed]",
            "text/plain": [
              "<Figure size 576x432 with 1 Axes>"
            ]
          },
          "metadata": {
            "tags": [],
            "needs_background": "light"
          }
        }
      ]
    },
    {
      "cell_type": "markdown",
      "metadata": {
        "id": "_tXdoj7Dn0jO"
      },
      "source": [
        "Polynominal Regression:"
      ]
    },
    {
      "cell_type": "code",
      "metadata": {
        "colab": {
          "base_uri": "https://localhost:8080/",
          "height": 295
        },
        "id": "3K3ViXArncFt",
        "outputId": "f9a7945e-72e8-4399-d9f6-a9c6dedcda6f"
      },
      "source": [
        "# Importing libraries\n",
        "\n",
        "import numpy as np\n",
        "\n",
        "import math\n",
        "\n",
        "import matplotlib.pyplot as plt\n",
        "\n",
        "# Univariate Polynomial Regression\n",
        "\n",
        "class PolynomailRegression() :\n",
        "\n",
        "\tdef __init__( self, degree, learning_rate, iterations ) :\n",
        "\n",
        "\t\tself.degree = degree\n",
        "\n",
        "\t\tself.learning_rate = learning_rate\n",
        "\n",
        "\t\tself.iterations = iterations\n",
        "\n",
        "\t# function to tranform X\n",
        "\n",
        "\tdef transform( self, X ) :\n",
        "\n",
        "\t\t# initialize X_transform\n",
        "\n",
        "\t\tX_transform = np.ones( ( self.m, 1 ) )\n",
        "\n",
        "\t\tj = 0\n",
        "\n",
        "\t\tfor j in range( self.degree + 1 ) :\n",
        "\n",
        "\t\t\tif j != 0 :\n",
        "\n",
        "\t\t\t\tx_pow = np.power( X, j )\n",
        "\n",
        "\t\t\t\t# append x_pow to X_transform\n",
        "\n",
        "\t\t\t\tX_transform = np.append( X_transform, x_pow.reshape( -1, 1 ), axis = 1 )\n",
        "\n",
        "\t\treturn X_transform\n",
        "\n",
        "\t# function to normalize X_tranform\n",
        "\n",
        "\tdef normalize( self, X ) :\n",
        "\n",
        "\t\tX[:, 1:] = ( X[:, 1:] - np.mean( X[:, 1:], axis = 0 ) ) / np.std( X[:, 1:], axis = 0 )\n",
        "\n",
        "\t\treturn X\n",
        "\n",
        "\t# model training\n",
        "\n",
        "\tdef fit( self, X, Y ) :\n",
        "\n",
        "\t\tself.X = X\n",
        "\n",
        "\t\tself.Y = Y\n",
        "\n",
        "\t\tself.m, self.n = self.X.shape\n",
        "\n",
        "\t\t# weight initialization\n",
        "\n",
        "\t\tself.W = np.zeros( self.degree + 1 )\n",
        "\n",
        "\t\t# tranform X for polynomial h( x ) = w0 * x^0 + w1 * x^1 + w2 * x^2 + ........+ wn * x^n\n",
        "\n",
        "\t\tX_transform = self.transform( self.X )\n",
        "\n",
        "\t\t# normalize X_transform\n",
        "\n",
        "\t\tX_normalize = self.normalize( X_transform )\n",
        "\n",
        "\t\t# gradient descent learning\n",
        "\n",
        "\t\tfor i in range( self.iterations ) :\n",
        "\n",
        "\t\t\th = self.predict( self.X )\n",
        "\n",
        "\t\t\terror = h - self.Y\n",
        "\n",
        "\t\t\t# update weights\n",
        "\n",
        "\t\t\tself.W = self.W - self.learning_rate * ( 1 / self.m ) * np.dot( X_normalize.T, error )\n",
        "\n",
        "\t\treturn self\n",
        "\n",
        "\t# predict\n",
        "\n",
        "\tdef predict( self, X ) :\n",
        "\n",
        "\t\t# tranform X for polynomial h( x ) = w0 * x^0 + w1 * x^1 + w2 * x^2 + ........+ wn * x^n\n",
        "\n",
        "\t\tX_transform = self.transform( X )\n",
        "\n",
        "\t\tX_normalize = self.normalize( X_transform )\n",
        "\n",
        "\t\treturn np.dot( X_transform, self.W )\n",
        "\n",
        "\n",
        "# Driver code\n",
        "\n",
        "def main() :\n",
        "\n",
        "\t# Create dataset\n",
        "\n",
        "\tX = np.array( [ [1], [2], [3], [4], [5], [6], [7] ] )\n",
        "\n",
        "\tY = np.array( [ 45000, 50000, 60000, 80000, 110000, 150000, 200000 ] )\n",
        "\n",
        "\t# model training\n",
        "\n",
        "\tmodel = PolynomailRegression( degree = 2, learning_rate = 0.01, iterations = 500 )\n",
        "\n",
        "\tmodel.fit( X, Y )\n",
        "\n",
        "\t# Prediction on training set\n",
        "\n",
        "\tY_pred = model.predict( X )\n",
        "\n",
        "\t# Visualization\n",
        "\n",
        "\tplt.scatter( X, Y, color = 'blue' )\n",
        "\n",
        "\tplt.plot( X, Y_pred, color = 'orange' )\n",
        "\n",
        "\tplt.title( 'X vs Y' )\n",
        "\n",
        "\tplt.xlabel( 'X' )\n",
        "\n",
        "\tplt.ylabel( 'Y' )\n",
        "\n",
        "\tplt.show()\n",
        "\n",
        "\n",
        "if __name__ == \"__main__\" :\n",
        "\n",
        "\tmain()\n"
      ],
      "execution_count": null,
      "outputs": [
        {
          "output_type": "display_data",
          "data": {
            "image/png": "[encoded data removed]",
            "text/plain": [
              "<Figure size 432x288 with 1 Axes>"
            ]
          },
          "metadata": {
            "tags": [],
            "needs_background": "light"
          }
        }
      ]
    }
  ]
}