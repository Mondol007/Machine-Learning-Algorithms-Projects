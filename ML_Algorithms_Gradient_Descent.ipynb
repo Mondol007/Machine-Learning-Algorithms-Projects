{
  "nbformat": 4,
  "nbformat_minor": 0,
  "metadata": {
    "colab": {
      "provenance": []
    },
    "kernelspec": {
      "name": "python3",
      "display_name": "Python 3"
    },
    "language_info": {
      "name": "python"
    }
  },
  "cells": [
    {
      "cell_type": "markdown",
      "metadata": {
        "id": "fEWiLfUQA25W"
      },
      "source": [
        "Batch Gradient Descent:"
      ]
    },
    {
      "cell_type": "code",
      "metadata": {
        "id": "U-3ob2RXA9Mr"
      },
      "source": [
        "import numpy as np\n",
        "import matplotlib.pyplot as plt"
      ],
      "execution_count": null,
      "outputs": []
    },
    {
      "cell_type": "code",
      "metadata": {
        "id": "nLLe9cmCBSox"
      },
      "source": [
        "\"\"\" Generating data \"\"\"\n",
        "true_slops = 10.889\n",
        "true_intercept = 3.456\n",
        "input_var = np.arange(0.0, 100.0)\n",
        "output_var = true_slops*input_var + true_intercept + 500.0 * np.random.rand(len(input_var))"
      ],
      "execution_count": null,
      "outputs": []
    },
    {
      "cell_type": "code",
      "metadata": {
        "colab": {
          "base_uri": "https://localhost:8080/",
          "height": 279
        },
        "id": "VCSfBI2pCXeX",
        "outputId": "203d6de0-0c3b-4884-b2eb-07db39004ca9"
      },
      "source": [
        "#Matplotlib Notebook\n",
        "plt.figure()\n",
        "plt.scatter(input_var, output_var)\n",
        "plt.xlabel('x')\n",
        "plt.ylabel('y')\n",
        "plt.show()"
      ],
      "execution_count": null,
      "outputs": [
        {
          "output_type": "display_data",
          "data": {
            "image/png": "[encoded data removed]",
            "text/plain": [
              "<Figure size 432x288 with 1 Axes>"
            ]
          },
          "metadata": {
            "tags": [],
            "needs_background": "light"
          }
        }
      ]
    },
    {
      "cell_type": "code",
      "metadata": {
        "id": "2Ugwo5UEDlKh"
      },
      "source": [
        "#Computing Cost Function\n",
        "def compute_cost(input_var, output_var, theta):\n",
        "    \"Compute linear regression cost\"\n",
        "    num_samples = len(input_var)\n",
        "    cost_sum = 0.0\n",
        "    for x,y in zip(input_var, output_var):\n",
        "        y_dash = np.dot(theta, np.array([1.0, x]))\n",
        "        cost_sum += (y_dash - y) ** 2\n",
        "\n",
        "    cost = cost_sum / (num_samples * 2.0)\n",
        "\n",
        "    return cost"
      ],
      "execution_count": null,
      "outputs": []
    },
    {
      "cell_type": "code",
      "metadata": {
        "id": "TBQ-4xS4bKlN"
      },
      "source": [
        "#compute theta using batch gredient descent\n",
        "\n",
        "def lin_reg_batch_gradient_descent(input_var, output_var, theta, alpha, max_iter):\n",
        "    \"\"\"Compute the params for linear regression using batch gradient descent\"\"\"\n",
        "    iteration = 0\n",
        "    num_samples = len(input_var)\n",
        "    cost = np.zeros(max_iter)\n",
        "    theta_store = np.zeros([2, max_iter])\n",
        "\n",
        "    while iteration < max_iter:\n",
        "        cost[iteration] = compute_cost(input_var, output_var, theta)\n",
        "        theta_store[:, iteration] = theta\n",
        "\n",
        "        print('--------------------------')\n",
        "        print(f'iteration: {iteration}')\n",
        "        print(f'cost: {cost[iteration]}')\n",
        "\n",
        "        for x,y in zip(input_var, output_var):\n",
        "            y_dash = np.dot(theta, np.array([1.0, x]))\n",
        "            gradient = np.array([1.0, x]) * (y - y_dash)\n",
        "            theta += alpha * gradient/num_samples\n",
        "\n",
        "        iteration += 1\n",
        "\n",
        "    return theta, cost, theta_store"
      ],
      "execution_count": null,
      "outputs": []
    },
    {
      "cell_type": "code",
      "metadata": {
        "id": "UUfrSV-F2xdS"
      },
      "source": [
        "#For checking some code\n",
        "p = np.array([20, 80])\n",
        "print(p)\n",
        "p_s=np.zeros([2, 10])\n",
        "print(p_s)\n",
        "print(\"\\n\")\n",
        "i=0\n",
        "while i < 10:\n",
        "  p_s[:, i] = p\n",
        "  print(p_s)\n",
        "  print(\"\\n\")\n",
        "  i+=1\n",
        "  #-------------------------------------------#"
      ],
      "execution_count": null,
      "outputs": []
    },
    {
      "cell_type": "code",
      "metadata": {
        "id": "8D8wr4Ix8idq"
      },
      "source": [
        "\"\"\"Train the model\"\"\"\n",
        "from sklearn.model_selection import train_test_split\n",
        "x_train, x_test, y_train, y_test = train_test_split(input_var, output_var, test_size=0.20)\n",
        "\n",
        "theta_0 = np.array([20.0, 80.0])\n",
        "\n",
        "alpha_batch = 1e-3\n",
        "max_iter = 1000\n",
        "theta_dash_batch, cost_batch, theta_store_batch = lin_reg_batch_gradient_descent(x_train, y_train, theta_0, alpha_batch, max_iter)"
      ],
      "execution_count": null,
      "outputs": []
    },
    {
      "cell_type": "markdown",
      "metadata": {
        "id": "zYy4DDCGOKHe"
      },
      "source": [
        "Stochastic gradient descent"
      ]
    },
    {
      "cell_type": "code",
      "metadata": {
        "id": "yR8Kx-3COTiI"
      },
      "source": [
        "def lin_reg_stoch_gradient_descent(input_var, output_var, theta, alpha):\n",
        "    \"\"\"Compute the params for linear regression using stochastic gradient descent\"\"\"\n",
        "    num_samples = len(input_var)\n",
        "    cost = np.zeros(num_samples)\n",
        "    theta_store = np.zeros([2, num_samples])\n",
        "\n",
        "    i = 0\n",
        "    for x,y in zip(input_var, output_var):\n",
        "        cost[i] = compute_cost(input_var, output_var, theta)\n",
        "        theta_store[:, i] = theta\n",
        "\n",
        "        print('--------------------------')\n",
        "        print(f'iteration: {i}')\n",
        "        print(f'cost: {cost[i]}')\n",
        "\n",
        "        y_dash = np.dot(theta, np.array([1.0, x]))\n",
        "        gradient = np.array([1.0, x]) * (y - y_dash)\n",
        "        theta += alpha * gradient/num_samples\n",
        "\n",
        "        i += 1\n",
        "\n",
        "    return theta, cost, theta_store"
      ],
      "execution_count": null,
      "outputs": []
    },
    {
      "cell_type": "code",
      "metadata": {
        "id": "WzVyUpBKPQQU"
      },
      "source": [
        "alpha = 1e-3\n",
        "theta_0 = np.array([20.0, 80.0])\n",
        "theta_dash, cost, theta_store = lin_reg_stoch_gradient_descent(x_train, y_train, theta_0, alpha)"
      ],
      "execution_count": null,
      "outputs": []
    },
    {
      "cell_type": "code",
      "metadata": {
        "colab": {
          "base_uri": "https://localhost:8080/",
          "height": 346
        },
        "id": "nLJ1fk8TQzb8",
        "outputId": "748cfff3-7b03-439b-b445-44bdaf3e3148"
      },
      "source": [
        "#visualizing gredient descent function\n",
        "plt.figure()\n",
        "plt.scatter(x_test, y_test)\n",
        "plt.plot(x_test, theta_dash_batch[0] + theta_dash_batch[1]*x_test, 'g', label='batch')\n",
        "plt.plot(x_test, theta_dash[0] + theta_dash[1]*x_test, '-r', label='stochastic')\n",
        "plt.xlabel('x')\n",
        "plt.ylabel('y')\n",
        "plt.legend()\n",
        "plt.show()\n",
        "print(f'batch      T0, T1: {theta_dash_batch[0]}, {theta_dash_batch[1]}')\n",
        "print(f'stochastic T0, T1: {theta_dash[0]}, {theta_dash[1]}')\n",
        "rms_batch = np.sqrt(np.mean(np.square(theta_dash_batch[0] + theta_dash_batch[1]*x_test - y_test)))\n",
        "rms_stochastic = np.sqrt(np.mean(np.square(theta_dash[0] + theta_dash[1]*x_test - y_test)))\n",
        "print(f'batch rms:      {rms_batch}')\n",
        "print(f'stochastic rms: {rms_stochastic}')"
      ],
      "execution_count": null,
      "outputs": [
        {
          "output_type": "display_data",
          "data": {
            "image/png": "[encoded data removed]",
            "text/plain": [
              "<Figure size 432x288 with 1 Axes>"
            ]
          },
          "metadata": {
            "tags": [],
            "needs_background": "light"
          }
        },
        {
          "output_type": "stream",
          "text": [
            "batch      T0, T1: 74.26918301790846, 13.471321464868238\n",
            "stochastic T0, T1: 19.0284871633652, 16.631370578099208\n",
            "batch rms:      151.48075878578513\n",
            "stochastic rms: 242.26509365833724\n"
          ],
          "name": "stdout"
        }
      ]
    },
    {
      "cell_type": "code",
      "metadata": {
        "colab": {
          "base_uri": "https://localhost:8080/",
          "height": 324
        },
        "id": "7KK_XSQwRwUB",
        "outputId": "eba19927-105a-4337-9bd3-7d19b23876d1"
      },
      "source": [
        "#visualizing cost function\n",
        "\n",
        "plt.figure()\n",
        "plt.plot(np.arange(max_iter), cost_batch, 'r', label='batch')\n",
        "plt.plot(np.arange(len(cost)), cost, 'g', label='stochastic')\n",
        "plt.xlabel('iteration')\n",
        "plt.ylabel('normalized cost')\n",
        "plt.legend()\n",
        "plt.show()\n",
        "print(f'min cost with BGD: {np.min(cost_batch)}')\n",
        "print(f'min cost with SGD: {np.min(cost)}')"
      ],
      "execution_count": null,
      "outputs": [
        {
          "output_type": "display_data",
          "data": {
            "image/png": "[encoded data removed]",
            "text/plain": [
              "<Figure size 432x288 with 1 Axes>"
            ]
          },
          "metadata": {
            "tags": [],
            "needs_background": "light"
          }
        },
        {
          "output_type": "stream",
          "text": [
            "min cost with BGD: 17525.826513234468\n",
            "min cost with SGD: 25235.822056907426\n"
          ],
          "name": "stdout"
        }
      ]
    }
  ]
}