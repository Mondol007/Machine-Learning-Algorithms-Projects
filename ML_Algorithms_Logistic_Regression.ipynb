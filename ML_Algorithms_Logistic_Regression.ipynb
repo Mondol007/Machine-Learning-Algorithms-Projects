{
  "nbformat": 4,
  "nbformat_minor": 0,
  "metadata": {
    "colab": {
      "provenance": []
    },
    "kernelspec": {
      "name": "python3",
      "display_name": "Python 3"
    },
    "language_info": {
      "name": "python"
    }
  },
  "cells": [
    {
      "cell_type": "markdown",
      "metadata": {
        "id": "f6e0TJ5ncxH8"
      },
      "source": [
        "Sigmoid Function:"
      ]
    },
    {
      "cell_type": "code",
      "metadata": {
        "colab": {
          "base_uri": "https://localhost:8080/",
          "height": 467
        },
        "id": "MI7u0fD9Q6vk",
        "outputId": "3503b56a-8e37-4281-9c9f-fd808f1bc7c3"
      },
      "source": [
        "import numpy as np\n",
        "import matplotlib.pyplot as plt\n",
        "from matplotlib import rcParams\n",
        "rcParams['figure.figsize'] = (14, 7)\n",
        "rcParams['axes.spines.top'] = False\n",
        "rcParams['axes.spines.right'] = False\n",
        "\n",
        "\n",
        "def sigmoid(x):\n",
        "    return 1 / (1 + np.exp(-x))\n",
        "\n",
        "xs = np.arange(-10, 10, 0.1)\n",
        "ys = [sigmoid(x) for x in xs]\n",
        "\n",
        "plt.plot(xs, ys, c='#087E8B', lw=3)\n",
        "plt.title('Sigmoid function', size=20)\n",
        "plt.xlabel('X', size=14)\n",
        "plt.ylabel('Y (probability)', size=14)\n",
        "plt.show()"
      ],
      "execution_count": null,
      "outputs": [
        {
          "output_type": "display_data",
          "data": {
            "image/png": "[encoded data removed]",
            "text/plain": [
              "<Figure size 1008x504 with 1 Axes>"
            ]
          },
          "metadata": {
            "tags": [],
            "needs_background": "light"
          }
        }
      ]
    },
    {
      "cell_type": "markdown",
      "metadata": {
        "id": "Z855N9BEBr81"
      },
      "source": [
        "Binary Cross Entropy Loss J(theta):"
      ]
    },
    {
      "cell_type": "code",
      "metadata": {
        "colab": {
          "base_uri": "https://localhost:8080/"
        },
        "id": "cPGHEnZmBMsL",
        "outputId": "209feae4-7aa6-4b0b-bfef-432d9ce58524"
      },
      "source": [
        "def binary_cross_entropy(y, y_hat):\n",
        "    def safe_log(x): return 0 if x == 0 else np.log(x)\n",
        "\n",
        "    total = 0\n",
        "    for curr_y, curr_y_hat in zip(y, y_hat):\n",
        "        total += (curr_y * safe_log(curr_y_hat) + (1 - curr_y) * safe_log(1 - curr_y_hat))\n",
        "    return - total / len(y)\n",
        "\n",
        "\n",
        "print(binary_cross_entropy(y=[1, 0], y_hat=[0.9, 0.1]))\n",
        "print(binary_cross_entropy(y=[1, 0], y_hat=[0.1, 0.9]))"
      ],
      "execution_count": null,
      "outputs": [
        {
          "output_type": "stream",
          "text": [
            "0.10536051565782628\n",
            "2.302585092994046\n"
          ],
          "name": "stdout"
        }
      ]
    },
    {
      "cell_type": "markdown",
      "metadata": {
        "id": "zoyKFWg0Etdq"
      },
      "source": [
        "Logistic Regression Implementation:"
      ]
    },
    {
      "cell_type": "code",
      "metadata": {
        "id": "-CAHLakIHASD"
      },
      "source": [
        "class LogisticRegression:\n",
        "    '''\n",
        "    A class which implements logistic regression model with gradient descent.\n",
        "    '''\n",
        "    def __init__(self, learning_rate=0.1, n_iterations=1000):\n",
        "        self.learning_rate = learning_rate\n",
        "        self.n_iterations = n_iterations\n",
        "        self.weights, self.bias = None, None\n",
        "\n",
        "    @staticmethod\n",
        "    def _sigmoid(x):\n",
        "        '''\n",
        "        Private method, used to pass results of the line equation through the sigmoid function.\n",
        "\n",
        "        :param x: float, prediction made by the line equation\n",
        "        :return: float\n",
        "        '''\n",
        "        return 1 / (1 + np.exp(-x, dtype=np.float128))\n",
        "\n",
        "    @staticmethod\n",
        "    def _binary_cross_entropy(y, y_hat):\n",
        "        '''\n",
        "        Private method, used to calculate binary cross entropy value between actual classes\n",
        "        and predicted probabilities.\n",
        "\n",
        "        :param y: array, true class labels\n",
        "        :param y_hat: array, predicted probabilities\n",
        "        :return: float\n",
        "        '''\n",
        "        def safe_log(x):\n",
        "            return 0 if x == 0 else np.log(x, dtype=np.float128)\n",
        "        total = 0\n",
        "        for curr_y, curr_y_hat in zip(y, y_hat):\n",
        "            total += (curr_y * safe_log(curr_y_hat) + (1 - curr_y) * safe_log(1 - curr_y_hat))\n",
        "        return - total / len(y)\n",
        "\n",
        "    def fit(self, X, y):\n",
        "        '''\n",
        "        Used to calculate the coefficient of the logistic regression model.\n",
        "\n",
        "        :param X: array, features\n",
        "        :param y: array, true values\n",
        "        :return: None\n",
        "        '''\n",
        "        # 1. Initialize coefficients\n",
        "        self.weights = np.zeros(X.shape[1], dtype=np.float128)\n",
        "        self.bias = 0\n",
        "\n",
        "        # 2. Perform gradient descent\n",
        "        for i in range(self.n_iterations):\n",
        "            linear_pred = np.dot(X, self.weights) + self.bias\n",
        "            probability = self._sigmoid(linear_pred)\n",
        "\n",
        "            # Calculate derivatives\n",
        "            partial_w = (1 / X.shape[0]) * (2 * np.dot(X.T, (probability - y)))\n",
        "            partial_d = (1 / X.shape[0]) * (2 * np.sum(probability - y))\n",
        "\n",
        "            # Update the coefficients\n",
        "            self.weights -= self.learning_rate * partial_w\n",
        "            self.bias -= self.learning_rate * partial_d\n",
        "\n",
        "    def predict_proba(self, X):\n",
        "        '''\n",
        "        Calculates prediction probabilities for a given threshold using the line equation\n",
        "        passed through the sigmoid function.\n",
        "\n",
        "        :param X: array, features\n",
        "        :return: array, prediction probabilities\n",
        "        '''\n",
        "        linear_pred = np.dot(X, self.weights) + self.bias\n",
        "        return self._sigmoid(linear_pred)\n",
        "\n",
        "    def predict(self, X, threshold=0.5):\n",
        "        '''\n",
        "        Makes predictions using the line equation passed through the sigmoid function.\n",
        "\n",
        "        :param X: array, features\n",
        "        :param threshold: float, classification threshold\n",
        "        :return: array, predictions\n",
        "        '''\n",
        "        probabilities = self.predict_proba(X)\n",
        "        return [1 if i > threshold else 0 for i in probabilities]"
      ],
      "execution_count": null,
      "outputs": []
    },
    {
      "cell_type": "markdown",
      "metadata": {
        "id": "3np6uCJlNwEh"
      },
      "source": [
        "Testing the Algorithm:"
      ]
    },
    {
      "cell_type": "code",
      "metadata": {
        "colab": {
          "base_uri": "https://localhost:8080/"
        },
        "id": "Fw-dFvskN1_V",
        "outputId": "c890ffaa-6d63-44cd-eebd-06f5294945e3"
      },
      "source": [
        "from sklearn.datasets import load_breast_cancer\n",
        "from sklearn.model_selection import train_test_split\n",
        "\n",
        "data = load_breast_cancer()\n",
        "X = data.data\n",
        "y = data.target\n",
        "\n",
        "X_train, X_test, y_train, y_test = train_test_split(X, y, test_size=0.2, random_state=40)\n",
        "\n",
        "model = LogisticRegression()\n",
        "model.fit(X_train, y_train)\n",
        "preds = model.predict(X_test)"
      ],
      "execution_count": null,
      "outputs": [
        {
          "output_type": "stream",
          "text": [
            "/usr/local/lib/python3.7/dist-packages/ipykernel_launcher.py:18: RuntimeWarning: overflow encountered in exp\n"
          ],
          "name": "stderr"
        }
      ]
    },
    {
      "cell_type": "markdown",
      "metadata": {
        "id": "80HPRDA1Q8az"
      },
      "source": [
        "Model evaluation:"
      ]
    },
    {
      "cell_type": "code",
      "metadata": {
        "colab": {
          "base_uri": "https://localhost:8080/"
        },
        "id": "sE_WG9ktQ9IW",
        "outputId": "23f20c83-1257-4f4d-c3b1-a94522b10cc7"
      },
      "source": [
        "from sklearn.metrics import accuracy_score, confusion_matrix\n",
        "\n",
        "print(accuracy_score(y_test, preds))\n",
        "print(confusion_matrix(y_test, preds))"
      ],
      "execution_count": null,
      "outputs": [
        {
          "output_type": "stream",
          "text": [
            "0.9122807017543859\n",
            "[[35  4]\n",
            " [ 6 69]]\n"
          ],
          "name": "stdout"
        }
      ]
    },
    {
      "cell_type": "markdown",
      "metadata": {
        "id": "jBjfp5X7R0tm"
      },
      "source": [
        "Using Scikit Learn:"
      ]
    },
    {
      "cell_type": "code",
      "metadata": {
        "id": "Ylb5Ys5yR3r2",
        "colab": {
          "base_uri": "https://localhost:8080/"
        },
        "outputId": "aef2abce-b0aa-4d47-ccb4-1401c057ff9f"
      },
      "source": [
        "from sklearn.linear_model import LogisticRegression\n",
        "\n",
        "lr_model = LogisticRegression()\n",
        "lr_model.fit(X_train, y_train)\n",
        "lr_preds = lr_model.predict(X_test)\n",
        "\n",
        "print(accuracy_score(y_test, lr_preds))\n",
        "print(confusion_matrix(y_test, lr_preds))"
      ],
      "execution_count": null,
      "outputs": [
        {
          "output_type": "stream",
          "text": [
            "0.9385964912280702\n",
            "[[36  3]\n",
            " [ 4 71]]\n"
          ],
          "name": "stdout"
        },
        {
          "output_type": "stream",
          "text": [
            "/usr/local/lib/python3.7/dist-packages/sklearn/linear_model/_logistic.py:940: ConvergenceWarning: lbfgs failed to converge (status=1):\n",
            "STOP: TOTAL NO. of ITERATIONS REACHED LIMIT.\n",
            "\n",
            "Increase the number of iterations (max_iter) or scale the data as shown in:\n",
            "    https://scikit-learn.org/stable/modules/preprocessing.html\n",
            "Please also refer to the documentation for alternative solver options:\n",
            "    https://scikit-learn.org/stable/modules/linear_model.html#logistic-regression\n",
            "  extra_warning_msg=_LOGISTIC_SOLVER_CONVERGENCE_MSG)\n"
          ],
          "name": "stderr"
        }
      ]
    }
  ]
}